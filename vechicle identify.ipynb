{
 "cells": [
  {
   "cell_type": "code",
   "execution_count": 1,
   "id": "45fae140",
   "metadata": {},
   "outputs": [],
   "source": [
    "# Dataset\n",
    "dataset = [\n",
    "    {\"Instance\": 1, \"Horsepower\": 200, \"Weight\": 3000, \"Max Speed\": 140, \"Class\": \"Car\"},\n",
    "    {\"Instance\": 2, \"Horsepower\": 150, \"Weight\": 2500, \"Max Speed\": 130, \"Class\": \"Car\"},\n",
    "    {\"Instance\": 3, \"Horsepower\": 100, \"Weight\": 1000, \"Max Speed\": 90, \"Class\": \"Motorcycle\"},\n",
    "    {\"Instance\": 4, \"Horsepower\": 80, \"Weight\": 800, \"Max Speed\": 85, \"Class\": \"Motorcycle\"},\n",
    "    {\"Instance\": 5, \"Horsepower\": 300, \"Weight\": 5000, \"Max Speed\": 120, \"Class\": \"Truck\"},\n",
    "    {\"Instance\": 6, \"Horsepower\": 250, \"Weight\": 4500, \"Max Speed\": 110, \"Class\": \"Truck\"},\n",
    "    {\"Instance\": 7, \"Horsepower\": 180, \"Weight\": 2800, \"Max Speed\": 135, \"Class\": \"Car\"}\n",
    "]"
   ]
  },
  {
   "cell_type": "code",
   "execution_count": 2,
   "id": "e99841b2",
   "metadata": {},
   "outputs": [],
   "source": [
    "# New vehicle features\n",
    "new_vehicle = {\"Horsepower\": 180, \"Weight\": 2800, \"Max Speed\": 135}"
   ]
  },
  {
   "cell_type": "code",
   "execution_count": 3,
   "id": "5f1a69ac",
   "metadata": {},
   "outputs": [],
   "source": [
    "# Training phase\n",
    "total_instances = len(dataset)\n",
    "car_instances = sum(1 for data in dataset if data[\"Class\"] == \"Car\")\n",
    "motorcycle_instances = sum(1 for data in dataset if data[\"Class\"] == \"Motorcycle\")\n",
    "truck_instances = sum(1 for data in dataset if data[\"Class\"] == \"Truck\")"
   ]
  },
  {
   "cell_type": "code",
   "execution_count": 4,
   "id": "908ac4e9",
   "metadata": {},
   "outputs": [],
   "source": [
    "# Calculate prior probabilities\n",
    "p_car = car_instances / total_instances\n",
    "p_motorcycle = motorcycle_instances / total_instances\n",
    "p_truck = truck_instances / total_instances"
   ]
  },
  {
   "cell_type": "code",
   "execution_count": 5,
   "id": "0740caed",
   "metadata": {},
   "outputs": [],
   "source": [
    "# Classification phase\n",
    "p_horsepower_car = sum(1 for data in dataset if data[\"Class\"] == \"Car\" and data[\"Horsepower\"] == new_vehicle[\"Horsepower\"]) / car_instances\n",
    "p_horsepower_motorcycle = sum(1 for data in dataset if data[\"Class\"] == \"Motorcycle\" and data[\"Horsepower\"] == new_vehicle[\"Horsepower\"]) / motorcycle_instances\n",
    "p_horsepower_truck = sum(1 for data in dataset if data[\"Class\"] == \"Truck\" and data[\"Horsepower\"] == new_vehicle[\"Horsepower\"]) / truck_instances\n",
    "\n",
    "p_weight_car = sum(1 for data in dataset if data[\"Class\"] == \"Car\" and data[\"Weight\"] == new_vehicle[\"Weight\"]) / car_instances\n",
    "p_weight_motorcycle = sum(1 for data in dataset if data[\"Class\"] == \"Motorcycle\" and data[\"Weight\"] == new_vehicle[\"Weight\"]) / motorcycle_instances\n",
    "p_weight_truck = sum(1 for data in dataset if data[\"Class\"] == \"Truck\" and data[\"Weight\"] == new_vehicle[\"Weight\"]) / truck_instances\n",
    "\n",
    "p_max_speed_car = sum(1 for data in dataset if data[\"Class\"] == \"Car\" and data[\"Max Speed\"] == new_vehicle[\"Max Speed\"]) / car_instances\n",
    "p_max_speed_motorcycle = sum(1 for data in dataset if data[\"Class\"] == \"Motorcycle\" and data[\"Max Speed\"] == new_vehicle[\"Max Speed\"]) / motorcycle_instances\n",
    "p_max_speed_truck = sum(1 for data in dataset if data[\"Class\"] == \"Truck\" and data[\"Max Speed\"] == new_vehicle[\"Max Speed\"]) / truck_instances"
   ]
  },
  {
   "cell_type": "code",
   "execution_count": 6,
   "id": "f3419427",
   "metadata": {},
   "outputs": [],
   "source": [
    "# Calculate posterior probabilities using Bayes' theorem\n",
    "posterior_car = p_car * p_horsepower_car * p_weight_car * p_max_speed_car\n",
    "posterior_motorcycle = p_motorcycle * p_horsepower_motorcycle * p_weight_motorcycle * p_max_speed_motorcycle\n",
    "posterior_truck = p_truck * p_horsepower_truck * p_weight_truck * p_max_speed_truck\n"
   ]
  },
  {
   "cell_type": "code",
   "execution_count": 7,
   "id": "f83cdd25",
   "metadata": {},
   "outputs": [],
   "source": [
    "# Normalize the probabilities\n",
    "total_posterior = posterior_car + posterior_motorcycle + posterior_truck\n",
    "p_car_given_features = posterior_car / total_posterior\n",
    "p_motorcycle_given_features = posterior_motorcycle / total_posterior\n",
    "p_truck_given_features = posterior_truck / total_posterior"
   ]
  },
  {
   "cell_type": "code",
   "execution_count": 8,
   "id": "27f70dd0",
   "metadata": {},
   "outputs": [
    {
     "name": "stdout",
     "output_type": "stream",
     "text": [
      "Posterior probabilities:\n",
      "Car: 1.0\n",
      "Motorcycle: 0.0\n",
      "Truck: 0.0\n"
     ]
    }
   ],
   "source": [
    "# Print the results\n",
    "print(\"Posterior probabilities:\")\n",
    "print(\"Car:\", p_car_given_features)\n",
    "print(\"Motorcycle:\", p_motorcycle_given_features)\n",
    "print(\"Truck:\", p_truck_given_features)"
   ]
  },
  {
   "cell_type": "code",
   "execution_count": null,
   "id": "df159172",
   "metadata": {},
   "outputs": [],
   "source": []
  }
 ],
 "metadata": {
  "kernelspec": {
   "display_name": "Python 3 (ipykernel)",
   "language": "python",
   "name": "python3"
  },
  "language_info": {
   "codemirror_mode": {
    "name": "ipython",
    "version": 3
   },
   "file_extension": ".py",
   "mimetype": "text/x-python",
   "name": "python",
   "nbconvert_exporter": "python",
   "pygments_lexer": "ipython3",
   "version": "3.11.3"
  }
 },
 "nbformat": 4,
 "nbformat_minor": 5
}
