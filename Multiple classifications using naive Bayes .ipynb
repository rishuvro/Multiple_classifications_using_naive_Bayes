{
 "cells": [
  {
   "cell_type": "code",
   "execution_count": 1,
   "id": "46d2b4dd",
   "metadata": {},
   "outputs": [],
   "source": [
    "import math"
   ]
  },
  {
   "cell_type": "code",
   "execution_count": 2,
   "id": "843c8b8d",
   "metadata": {},
   "outputs": [],
   "source": [
    "# Training data\n",
    "total_emails = 10\n",
    "spam_emails = 4\n",
    "ham_emails = 4\n",
    "promo_emails = 2"
   ]
  },
  {
   "cell_type": "code",
   "execution_count": 3,
   "id": "69a316d1",
   "metadata": {},
   "outputs": [],
   "source": [
    "# Prior probabilities\n",
    "prior_spam = spam_emails / total_emails\n",
    "prior_ham = ham_emails / total_emails\n",
    "prior_promo = promo_emails / total_emails"
   ]
  },
  {
   "cell_type": "code",
   "execution_count": 4,
   "id": "44468812",
   "metadata": {},
   "outputs": [],
   "source": [
    "# Conditional probabilities of each word given each class\n",
    "word_probabilities = {\n",
    "    \"Congratulations\": {\n",
    "        \"spam\": 1/16,\n",
    "        \"ham\": 1/12,\n",
    "        \"promo\": 0/5\n",
    "    },\n",
    "    \"won\": {\n",
    "        \"spam\": 1/16,\n",
    "        \"ham\": 1/12,\n",
    "        \"promo\": 0/5\n",
    "    },\n",
    "    \"free\": {\n",
    "        \"spam\": 1/16,\n",
    "        \"ham\": 0/12,\n",
    "        \"promo\": 1/5\n",
    "    },\n",
    "    \"vacation\": {\n",
    "        \"spam\": 1/16,\n",
    "        \"ham\": 0/12,\n",
    "        \"promo\": 1/5\n",
    "    },\n",
    "    \"Click\": {\n",
    "        \"spam\": 1/16,\n",
    "        \"ham\": 0/12,\n",
    "        \"promo\": 1/5\n",
    "    },\n",
    "    \"claim\": {\n",
    "        \"spam\": 1/16,\n",
    "        \"ham\": 0/12,\n",
    "        \"promo\": 1/5\n",
    "    },\n",
    "    \"prize\": {\n",
    "        \"spam\": 1/16,\n",
    "        \"ham\": 0/12,\n",
    "        \"promo\": 1/5\n",
    "    }\n",
    "}\n"
   ]
  },
  {
   "cell_type": "code",
   "execution_count": 5,
   "id": "89d406b9",
   "metadata": {},
   "outputs": [],
   "source": [
    "# Example email\n",
    "new_email = \"Congratulations! You have won a free vacation. Click here to claim your prize.\"\n",
    "tokenized_email = new_email.split()"
   ]
  },
  {
   "cell_type": "code",
   "execution_count": 6,
   "id": "28b56e88",
   "metadata": {},
   "outputs": [],
   "source": [
    "\n",
    "# Calculate the posterior probabilities\n",
    "posterior_spam = prior_spam\n",
    "posterior_ham = prior_ham\n",
    "posterior_promo = prior_promo"
   ]
  },
  {
   "cell_type": "code",
   "execution_count": 7,
   "id": "d8f69317",
   "metadata": {},
   "outputs": [],
   "source": [
    "for word in tokenized_email:\n",
    "    if word in word_probabilities:\n",
    "        posterior_spam *= word_probabilities[word][\"spam\"]\n",
    "        posterior_ham *= word_probabilities[word][\"ham\"]\n",
    "        posterior_promo *= word_probabilities[word][\"promo\"]\n"
   ]
  },
  {
   "cell_type": "code",
   "execution_count": 8,
   "id": "5d354353",
   "metadata": {},
   "outputs": [],
   "source": [
    "# Classify the email based on the highest posterior probability\n",
    "if posterior_spam > posterior_ham and posterior_spam > posterior_promo:\n",
    "    classification = \"spam\"\n",
    "elif posterior_ham > posterior_spam and posterior_ham > posterior_promo:\n",
    "    classification = \"ham\"\n",
    "else:\n",
    "    classification = \"promo\""
   ]
  },
  {
   "cell_type": "code",
   "execution_count": 9,
   "id": "ef8c25fb",
   "metadata": {},
   "outputs": [
    {
     "name": "stdout",
     "output_type": "stream",
     "text": [
      "The email is classified as: spam\n"
     ]
    }
   ],
   "source": [
    "# Output the classification\n",
    "print(\"The email is classified as:\", classification)"
   ]
  },
  {
   "cell_type": "code",
   "execution_count": null,
   "id": "c86ec695",
   "metadata": {},
   "outputs": [],
   "source": []
  }
 ],
 "metadata": {
  "kernelspec": {
   "display_name": "Python 3 (ipykernel)",
   "language": "python",
   "name": "python3"
  },
  "language_info": {
   "codemirror_mode": {
    "name": "ipython",
    "version": 3
   },
   "file_extension": ".py",
   "mimetype": "text/x-python",
   "name": "python",
   "nbconvert_exporter": "python",
   "pygments_lexer": "ipython3",
   "version": "3.10.6"
  }
 },
 "nbformat": 4,
 "nbformat_minor": 5
}
